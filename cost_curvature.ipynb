{
 "cells": [
  {
   "cell_type": "code",
   "execution_count": 39,
   "metadata": {
    "collapsed": false
   },
   "outputs": [],
   "source": [
    "%matplotlib inline\n",
    "import numpy as np\n",
    "import matplotlib.pyplot as plt \n",
    "from mpl_toolkits.mplot3d import Axes3D\n",
    "import pandas as pd\n",
    "import matplotlib.animation as animation\n",
    "import sys\n",
    "sys.path.append('demo_python_backend_files')\n",
    "from ipywidgets import interact\n",
    "from ipywidgets import widgets\n",
    "\n",
    "class curvature_test:\n",
    "    def __init__(self):\n",
    "        self.x = 0\n",
    "        self.y = 0\n",
    "        self.w = 0\n",
    "        \n",
    "    # build cost function\n",
    "    def build_n_solve_cost(self,ax1,ax2,xsample,ysample):\n",
    "        # solve least squares problem for optimal weights\n",
    "        w = sum([u*v for u,v in zip(xsample,ysample)])/(sum(xsample**2))\n",
    "        \n",
    "        # plot fit\n",
    "        s = np.linspace(-2,2)\n",
    "        ax1.plot(s,w*s,c = 'r')\n",
    "        \n",
    "        # plot associated cost\n",
    "        cost=[]\n",
    "        s = np.linspace(-2,4)\n",
    "        for i in range(len(s)):\n",
    "            w = s[i]\n",
    "            t = sum((xsample*w - ysample)**2)\n",
    "            cost.append(t)\n",
    "        ax2.plot(s,cost,c = 'k')\n",
    "       \n",
    "    # plot data\n",
    "    def plot_data(self,ax,xsample,ysample):\n",
    "        ax.scatter(xsample,ysample,color = 'k',linewidth = 1,marker = 'o',edgecolor = 'w',s = 40)\n",
    "        \n",
    "    # build dataset\n",
    "    def build_data(self,num_pts):\n",
    "        x = 4*np.random.rand(num_pts) - 2\n",
    "        y = x + 0.2*np.random.randn(len(x))\n",
    "        \n",
    "        # store as global\n",
    "        self.x = x\n",
    "        self.y = y\n",
    "        \n",
    "    # build animation\n",
    "    def animate_this(self):\n",
    "        # produce figure\n",
    "        # animation subfunc\n",
    "        def show_fit(p):\n",
    "\n",
    "            fig = plt.figure(num=None, figsize=(7,3), dpi=80, facecolor='w', edgecolor='k')\n",
    "            ax1 = plt.subplot(121)\n",
    "            ax2 = plt.subplot(122)\n",
    "            fig.subplots_adjust(left=0,right=1,bottom=0,top=1)   # remove whitespace around 3d figure\n",
    "\n",
    "            \n",
    "            # define\n",
    "            xsample = self.x[:p]\n",
    "            ysample = self.y[:p]\n",
    "            \n",
    "            # plot left panel\n",
    "            self.plot_data(ax1,xsample,ysample)      \n",
    "\n",
    "            # plot right panel\n",
    "            self.build_n_solve_cost(ax1,ax2,xsample,ysample)\n",
    "            \n",
    "            # clean up panels\n",
    "            ax2.set_ylim([-1,100])\n",
    "\n",
    "        interact(show_fit, p=widgets.IntSlider(min=1,max=(len(self.x)),step=1,value=1))"
   ]
  },
  {
   "cell_type": "code",
   "execution_count": 41,
   "metadata": {
    "collapsed": false
   },
   "outputs": [
    {
     "data": {
      "image/png": "[encoded data removed]",
      "text/plain": [
       "<matplotlib.figure.Figure at 0x10cc2ddd0>"
      ]
     },
     "metadata": {},
     "output_type": "display_data"
    }
   ],
   "source": [
    "tester = curvature_test()\n",
    "tester.build_data(num_pts= 40)\n",
    "tester.animate_this()"
   ]
  }
 ],
 "metadata": {
  "anaconda-cloud": {},
  "kernelspec": {
   "display_name": "Python [conda root]",
   "language": "python",
   "name": "conda-root-py"
  },
  "language_info": {
   "codemirror_mode": {
    "name": "ipython",
    "version": 2
   },
   "file_extension": ".py",
   "mimetype": "text/x-python",
   "name": "python",
   "nbconvert_exporter": "python",
   "pygments_lexer": "ipython2",
   "version": "2.7.12"
  },
  "widgets": {
   "state": {
    "cadf0d7d992043c9834e675a8f2c9f65": {
     "views": [
      {
       "cell_index": 1
      }
     ]
    }
   },
   "version": "1.2.0"
  }
 },
 "nbformat": 4,
 "nbformat_minor": 1
}
