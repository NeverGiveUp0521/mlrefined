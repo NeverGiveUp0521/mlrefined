{
 "cells": [
  {
   "cell_type": "code",
   "execution_count": 1,
   "metadata": {
    "collapsed": true
   },
   "outputs": [],
   "source": [
    "from IPython import display\n",
    "import matplotlib.pyplot as plt\n",
    "import pandas as pd\n",
    "import matplotlib.colors as mcolors\n",
    "from matplotlib.colors import LinearSegmentedColormap\n",
    "import numpy as np"
   ]
  },
  {
   "cell_type": "code",
   "execution_count": 105,
   "metadata": {
    "collapsed": false
   },
   "outputs": [],
   "source": [
    "vmax = 3.0\n",
    "my_cmap = LinearSegmentedColormap.from_list('mycmap', [(0 / vmax, [0.9,0.9,0.9]),\n",
    "                                            (1 / vmax, [1,0.5,0]),\n",
    "                                            (2 / vmax, 'lime'),\n",
    "                                            (3 / vmax, 'blue')]\n",
    "                                                        )\n",
    "\n",
    "\n",
    "colors = [(0.9,0.9,0.9),(1, 0, 0), (0, 1, 0), (0, 0, 1)]\n",
    "my_cmap = LinearSegmentedColormap.from_list('colormapX', colors, N=100)"
   ]
  },
  {
   "cell_type": "code",
   "execution_count": 106,
   "metadata": {
    "collapsed": false
   },
   "outputs": [
    {
     "data": {
      "image/png": "[encoded data removed]",
      "text/plain": [
       "<matplotlib.figure.Figure at 0x7f14495683d0>"
      ]
     },
     "metadata": {},
     "output_type": "display_data"
    }
   ],
   "source": [
    "grid = np.zeros((3,3))\n",
    "grid[0][0]=100\n",
    "\n",
    "fsize = 2\n",
    "fig = plt.figure(figsize = (fsize,fsize),frameon=False)\n",
    "ax = fig.add_subplot(111, aspect='equal')\n",
    "\n",
    "ax.pcolormesh(grid,edgecolors = 'k',linewidth = 0.01,vmin=0,vmax=100,cmap = my_cmap)\n",
    "\n",
    "# pcolormesh\n",
    "# clean up plot\n",
    "ax.axis('off');"
   ]
  },
  {
   "cell_type": "code",
   "execution_count": null,
   "metadata": {
    "collapsed": true
   },
   "outputs": [],
   "source": []
  },
  {
   "cell_type": "code",
   "execution_count": null,
   "metadata": {
    "collapsed": true
   },
   "outputs": [],
   "source": []
  }
 ],
 "metadata": {
  "kernelspec": {
   "display_name": "Python 2",
   "language": "python",
   "name": "python2"
  },
  "language_info": {
   "codemirror_mode": {
    "name": "ipython",
    "version": 2
   },
   "file_extension": ".py",
   "mimetype": "text/x-python",
   "name": "python",
   "nbconvert_exporter": "python",
   "pygments_lexer": "ipython2",
   "version": "2.7.12"
  }
 },
 "nbformat": 4,
 "nbformat_minor": 0
}
